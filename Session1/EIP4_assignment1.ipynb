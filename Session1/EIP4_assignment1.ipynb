{
  "nbformat": 4,
  "nbformat_minor": 0,
  "metadata": {
    "colab": {
      "name": "EIP4_assignment1.ipynb",
      "provenance": [],
      "collapsed_sections": [],
      "include_colab_link": true
    },
    "kernelspec": {
      "name": "python3",
      "display_name": "Python 3"
    },
    "accelerator": "GPU"
  },
  "cells": [
    {
      "cell_type": "markdown",
      "metadata": {
        "id": "view-in-github",
        "colab_type": "text"
      },
      "source": [
        "<a href=\"https://colab.research.google.com/github/pasumarthi/EIP4/blob/master/Session1/EIP4_assignment1.ipynb\" target=\"_parent\"><img src=\"https://colab.research.google.com/assets/colab-badge.svg\" alt=\"Open In Colab\"/></a>"
      ]
    },
    {
      "cell_type": "markdown",
      "metadata": {
        "id": "aNyZv-Ec52ot",
        "colab_type": "text"
      },
      "source": [
        "# **Import Libraries and modules**"
      ]
    },
    {
      "cell_type": "code",
      "metadata": {
        "id": "3m3w1Cw49Zkt",
        "colab_type": "code",
        "colab": {}
      },
      "source": [
        "# https://keras.io/\n",
        "!pip install -q keras\n",
        "import keras"
      ],
      "execution_count": 0,
      "outputs": []
    },
    {
      "cell_type": "code",
      "metadata": {
        "id": "Eso6UHE080D4",
        "colab_type": "code",
        "colab": {}
      },
      "source": [
        "import numpy as np\n",
        "\n",
        "from keras.models import Sequential\n",
        "from keras.layers import Dense, Dropout, Activation, Flatten, Add\n",
        "from keras.layers import Conv2D, MaxPooling2D,GlobalAveragePooling2D\n",
        "from keras.utils import np_utils\n",
        "\n",
        "from keras.datasets import mnist"
      ],
      "execution_count": 0,
      "outputs": []
    },
    {
      "cell_type": "markdown",
      "metadata": {
        "id": "zByEi95J86RD",
        "colab_type": "text"
      },
      "source": [
        "### Load pre-shuffled MNIST data into train and test sets"
      ]
    },
    {
      "cell_type": "code",
      "metadata": {
        "id": "7eRM0QWN83PV",
        "colab_type": "code",
        "colab": {}
      },
      "source": [
        "(X_train, y_train), (X_test, y_test) = mnist.load_data()"
      ],
      "execution_count": 0,
      "outputs": []
    },
    {
      "cell_type": "code",
      "metadata": {
        "id": "4a4Be72j8-ZC",
        "colab_type": "code",
        "outputId": "25aa4e1d-d99e-4c9d-b4cf-49d1c2d29422",
        "colab": {
          "base_uri": "https://localhost:8080/",
          "height": 298
        }
      },
      "source": [
        "print (X_train.shape)\n",
        "from matplotlib import pyplot as plt\n",
        "%matplotlib inline\n",
        "plt.imshow(X_train[10])"
      ],
      "execution_count": 29,
      "outputs": [
        {
          "output_type": "stream",
          "text": [
            "(60000, 28, 28)\n"
          ],
          "name": "stdout"
        },
        {
          "output_type": "execute_result",
          "data": {
            "text/plain": [
              "<matplotlib.image.AxesImage at 0x7f7580afe668>"
            ]
          },
          "metadata": {
            "tags": []
          },
          "execution_count": 29
        },
        {
          "output_type": "display_data",
          "data": {
            "image/png": "[encoded data removed]",
            "text/plain": [
              "<Figure size 432x288 with 1 Axes>"
            ]
          },
          "metadata": {
            "tags": []
          }
        }
      ]
    },
    {
      "cell_type": "code",
      "metadata": {
        "id": "FbCM_EEWET_y",
        "colab_type": "code",
        "colab": {
          "base_uri": "https://localhost:8080/",
          "height": 34
        },
        "outputId": "8f43d835-df3a-4762-9c57-4ad494ed6683"
      },
      "source": [
        "print(X_train.shape[0])"
      ],
      "execution_count": 30,
      "outputs": [
        {
          "output_type": "stream",
          "text": [
            "60000\n"
          ],
          "name": "stdout"
        }
      ]
    },
    {
      "cell_type": "code",
      "metadata": {
        "id": "dkmprriw9AnZ",
        "colab_type": "code",
        "colab": {}
      },
      "source": [
        "X_train = X_train.reshape(X_train.shape[0], 28, 28,1)\n",
        "X_test = X_test.reshape(X_test.shape[0], 28, 28,1)"
      ],
      "execution_count": 0,
      "outputs": []
    },
    {
      "cell_type": "code",
      "metadata": {
        "id": "X2m4YS4E9CRh",
        "colab_type": "code",
        "colab": {}
      },
      "source": [
        "X_train = X_train.astype('float32')\n",
        "X_test = X_test.astype('float32')\n",
        "X_train /= 255\n",
        "X_test /= 255"
      ],
      "execution_count": 0,
      "outputs": []
    },
    {
      "cell_type": "code",
      "metadata": {
        "id": "0Mn0vAYD9DvB",
        "colab_type": "code",
        "outputId": "2cda0d0a-621a-461f-f447-6eb151773e8f",
        "colab": {
          "base_uri": "https://localhost:8080/",
          "height": 34
        }
      },
      "source": [
        "y_train[:10]"
      ],
      "execution_count": 33,
      "outputs": [
        {
          "output_type": "execute_result",
          "data": {
            "text/plain": [
              "array([5, 0, 4, 1, 9, 2, 1, 3, 1, 4], dtype=uint8)"
            ]
          },
          "metadata": {
            "tags": []
          },
          "execution_count": 33
        }
      ]
    },
    {
      "cell_type": "code",
      "metadata": {
        "id": "ZG8JiXR39FHC",
        "colab_type": "code",
        "colab": {}
      },
      "source": [
        "# Convert 1-dimensional class arrays to 10-dimensional class matrices\n",
        "Y_train = np_utils.to_categorical(y_train, 10)\n",
        "Y_test = np_utils.to_categorical(y_test, 10)"
      ],
      "execution_count": 0,
      "outputs": []
    },
    {
      "cell_type": "code",
      "metadata": {
        "id": "fYlFRvKS9HMB",
        "colab_type": "code",
        "outputId": "3815d629-fe85-4b6b-a6c6-f366da6d65ac",
        "colab": {
          "base_uri": "https://localhost:8080/",
          "height": 185
        }
      },
      "source": [
        "Y_train[:10]\n"
      ],
      "execution_count": 35,
      "outputs": [
        {
          "output_type": "execute_result",
          "data": {
            "text/plain": [
              "array([[0., 0., 0., 0., 0., 1., 0., 0., 0., 0.],\n",
              "       [1., 0., 0., 0., 0., 0., 0., 0., 0., 0.],\n",
              "       [0., 0., 0., 0., 1., 0., 0., 0., 0., 0.],\n",
              "       [0., 1., 0., 0., 0., 0., 0., 0., 0., 0.],\n",
              "       [0., 0., 0., 0., 0., 0., 0., 0., 0., 1.],\n",
              "       [0., 0., 1., 0., 0., 0., 0., 0., 0., 0.],\n",
              "       [0., 1., 0., 0., 0., 0., 0., 0., 0., 0.],\n",
              "       [0., 0., 0., 1., 0., 0., 0., 0., 0., 0.],\n",
              "       [0., 1., 0., 0., 0., 0., 0., 0., 0., 0.],\n",
              "       [0., 0., 0., 0., 1., 0., 0., 0., 0., 0.]], dtype=float32)"
            ]
          },
          "metadata": {
            "tags": []
          },
          "execution_count": 35
        }
      ]
    },
    {
      "cell_type": "code",
      "metadata": {
        "id": "osKqT73Q9JJB",
        "colab_type": "code",
        "colab": {}
      },
      "source": [
        "from keras.layers import Activation,Dense\n",
        "model = Sequential()\n",
        "\n",
        " \n",
        "model.add(Conv2D(32, (3, 3), activation='relu', input_shape=(28,28,1)))#26\n",
        "model.add(Conv2D(64, (3, 3), activation='relu'))       # 24   \n",
        "model.add(Conv2D(8,(1,1),activation='relu'))     #24\n",
        "\n",
        "model.add(MaxPooling2D(pool_size=(2, 2)))  #12\n",
        "model.add(Dropout(0.05))\n",
        "          \n",
        "model.add(Conv2D(32, (3, 3), activation='relu'))     #10                    \n",
        "model.add(Conv2D(64, (3, 3), activation='relu'))      # 8  \n",
        "model.add(Conv2D(8,(1,1),activation='relu'))   #8\n",
        "\n",
        "model.add(MaxPooling2D(pool_size=(2,2)))            #4     \n",
        "model.add(Dropout(0.05))\n",
        "\n",
        "model.add(Conv2D(32, (3,3),activation='relu'))#2\n",
        "#model.add(Conv2D(10,(1,1),activation='relu'))\n",
        "#model.add(GlobalAveragePooling2D())\n",
        "model.add(Flatten())\n",
        "#model.add(Dense(100))\n",
        "model.add(Dense(10))\n",
        "\n",
        "\n",
        "\n",
        "model.add(Activation('softmax'))"
      ],
      "execution_count": 0,
      "outputs": []
    },
    {
      "cell_type": "code",
      "metadata": {
        "id": "Kvzs7YKnXVLA",
        "colab_type": "code",
        "colab": {
          "base_uri": "https://localhost:8080/",
          "height": 238
        },
        "outputId": "7870c5e0-ad3f-4cbc-e1c0-6b6d28741676"
      },
      "source": [
        " \n",
        "'''from keras.layers import Activation,Dense,Convolution2D\n",
        "model = Sequential()\n",
        "model.add(Convolution2D(32, 3, 3, activation='relu', input_shape=(28,28,1)))\n",
        "model.add(Convolution2D(64, 3, 3, activation='relu'))\n",
        "model.add(Convolution2D(16, 1, 1, activation='relu'))\n",
        "\n",
        "model.add(MaxPooling2D(pool_size=(2, 2)))\n",
        "#model.add(Dropout(0.15))\n",
        "          \n",
        "\n",
        "model.add(Convolution2D(32,3,3, activation='relu'))\n",
        "model.add(Convolution2D(16, 1, 1, activation='relu'))\n",
        "\n",
        "model.add(MaxPooling2D(pool_size=(2, 2)))\n",
        "#model.add(Dropout(0.5))\n",
        "\n",
        "model.add(Convolution2D(32,3,3, activation='relu'))\n",
        "model.add(Convolution2D(10,3,3))\n",
        "model.add(Flatten())\n",
        "model.add(Activation('softmax'))'''"
      ],
      "execution_count": 105,
      "outputs": [
        {
          "output_type": "stream",
          "text": [
            "/usr/local/lib/python3.6/dist-packages/ipykernel_launcher.py:4: UserWarning: Update your `Conv2D` call to the Keras 2 API: `Conv2D(32, (3, 3), activation=\"relu\", input_shape=(28, 28, 1...)`\n",
            "  after removing the cwd from sys.path.\n",
            "/usr/local/lib/python3.6/dist-packages/ipykernel_launcher.py:5: UserWarning: Update your `Conv2D` call to the Keras 2 API: `Conv2D(64, (3, 3), activation=\"relu\")`\n",
            "  \"\"\"\n",
            "/usr/local/lib/python3.6/dist-packages/ipykernel_launcher.py:6: UserWarning: Update your `Conv2D` call to the Keras 2 API: `Conv2D(16, (1, 1), activation=\"relu\")`\n",
            "  \n",
            "/usr/local/lib/python3.6/dist-packages/ipykernel_launcher.py:12: UserWarning: Update your `Conv2D` call to the Keras 2 API: `Conv2D(32, (3, 3), activation=\"relu\")`\n",
            "  if sys.path[0] == '':\n",
            "/usr/local/lib/python3.6/dist-packages/ipykernel_launcher.py:13: UserWarning: Update your `Conv2D` call to the Keras 2 API: `Conv2D(16, (1, 1), activation=\"relu\")`\n",
            "  del sys.path[0]\n",
            "/usr/local/lib/python3.6/dist-packages/ipykernel_launcher.py:18: UserWarning: Update your `Conv2D` call to the Keras 2 API: `Conv2D(32, (3, 3), activation=\"relu\")`\n",
            "/usr/local/lib/python3.6/dist-packages/ipykernel_launcher.py:19: UserWarning: Update your `Conv2D` call to the Keras 2 API: `Conv2D(10, (3, 3))`\n"
          ],
          "name": "stderr"
        }
      ]
    },
    {
      "cell_type": "code",
      "metadata": {
        "id": "TzdAYg1k9K7Z",
        "colab_type": "code",
        "outputId": "d12318c2-79d3-47a2-b2c8-bfe8fa1b43b4",
        "colab": {
          "base_uri": "https://localhost:8080/",
          "height": 622
        }
      },
      "source": [
        "model.summary()"
      ],
      "execution_count": 124,
      "outputs": [
        {
          "output_type": "stream",
          "text": [
            "Model: \"sequential_26\"\n",
            "_________________________________________________________________\n",
            "Layer (type)                 Output Shape              Param #   \n",
            "=================================================================\n",
            "conv2d_152 (Conv2D)          (None, 26, 26, 32)        320       \n",
            "_________________________________________________________________\n",
            "conv2d_153 (Conv2D)          (None, 24, 24, 64)        18496     \n",
            "_________________________________________________________________\n",
            "conv2d_154 (Conv2D)          (None, 24, 24, 8)         520       \n",
            "_________________________________________________________________\n",
            "max_pooling2d_39 (MaxPooling (None, 12, 12, 8)         0         \n",
            "_________________________________________________________________\n",
            "dropout_4 (Dropout)          (None, 12, 12, 8)         0         \n",
            "_________________________________________________________________\n",
            "conv2d_155 (Conv2D)          (None, 10, 10, 32)        2336      \n",
            "_________________________________________________________________\n",
            "conv2d_156 (Conv2D)          (None, 8, 8, 64)          18496     \n",
            "_________________________________________________________________\n",
            "conv2d_157 (Conv2D)          (None, 8, 8, 8)           520       \n",
            "_________________________________________________________________\n",
            "max_pooling2d_40 (MaxPooling (None, 4, 4, 8)           0         \n",
            "_________________________________________________________________\n",
            "dropout_5 (Dropout)          (None, 4, 4, 8)           0         \n",
            "_________________________________________________________________\n",
            "conv2d_158 (Conv2D)          (None, 2, 2, 32)          2336      \n",
            "_________________________________________________________________\n",
            "flatten_15 (Flatten)         (None, 128)               0         \n",
            "_________________________________________________________________\n",
            "dense_8 (Dense)              (None, 10)                1290      \n",
            "_________________________________________________________________\n",
            "activation_18 (Activation)   (None, 10)                0         \n",
            "=================================================================\n",
            "Total params: 44,314\n",
            "Trainable params: 44,314\n",
            "Non-trainable params: 0\n",
            "_________________________________________________________________\n"
          ],
          "name": "stdout"
        }
      ]
    },
    {
      "cell_type": "code",
      "metadata": {
        "id": "Zp6SuGrL9M3h",
        "colab_type": "code",
        "colab": {}
      },
      "source": [
        "model.compile(loss='categorical_crossentropy',\n",
        "             optimizer='adam',\n",
        "             metrics=['accuracy'])"
      ],
      "execution_count": 0,
      "outputs": []
    },
    {
      "cell_type": "code",
      "metadata": {
        "id": "4xWoKhPY9Of5",
        "colab_type": "code",
        "outputId": "d56cd1e8-4508-437f-ca84-117b46bb480f",
        "colab": {
          "base_uri": "https://localhost:8080/",
          "height": 890
        }
      },
      "source": [
        "model.fit(X_train, Y_train, batch_size=32, epochs=25, verbose=1,validation_split=0.1)"
      ],
      "execution_count": 126,
      "outputs": [
        {
          "output_type": "stream",
          "text": [
            "Train on 54000 samples, validate on 6000 samples\n",
            "Epoch 1/25\n",
            "54000/54000 [==============================] - 27s 493us/step - loss: 0.2250 - acc: 0.9275 - val_loss: 0.0602 - val_acc: 0.9817\n",
            "Epoch 2/25\n",
            "54000/54000 [==============================] - 25s 455us/step - loss: 0.0782 - acc: 0.9758 - val_loss: 0.0555 - val_acc: 0.9833\n",
            "Epoch 3/25\n",
            "54000/54000 [==============================] - 25s 456us/step - loss: 0.0602 - acc: 0.9817 - val_loss: 0.0504 - val_acc: 0.9848\n",
            "Epoch 4/25\n",
            "54000/54000 [==============================] - 25s 458us/step - loss: 0.0498 - acc: 0.9851 - val_loss: 0.0319 - val_acc: 0.9897\n",
            "Epoch 5/25\n",
            "54000/54000 [==============================] - 24s 451us/step - loss: 0.0433 - acc: 0.9864 - val_loss: 0.0341 - val_acc: 0.9898\n",
            "Epoch 6/25\n",
            "54000/54000 [==============================] - 24s 454us/step - loss: 0.0388 - acc: 0.9873 - val_loss: 0.0348 - val_acc: 0.9893\n",
            "Epoch 7/25\n",
            "54000/54000 [==============================] - 24s 452us/step - loss: 0.0353 - acc: 0.9887 - val_loss: 0.0331 - val_acc: 0.9915\n",
            "Epoch 8/25\n",
            "54000/54000 [==============================] - 25s 454us/step - loss: 0.0305 - acc: 0.9900 - val_loss: 0.0431 - val_acc: 0.9882\n",
            "Epoch 9/25\n",
            "54000/54000 [==============================] - 25s 454us/step - loss: 0.0294 - acc: 0.9904 - val_loss: 0.0309 - val_acc: 0.9915\n",
            "Epoch 10/25\n",
            "54000/54000 [==============================] - 24s 454us/step - loss: 0.0266 - acc: 0.9913 - val_loss: 0.0380 - val_acc: 0.9903\n",
            "Epoch 11/25\n",
            "54000/54000 [==============================] - 24s 453us/step - loss: 0.0245 - acc: 0.9918 - val_loss: 0.0347 - val_acc: 0.9885\n",
            "Epoch 12/25\n",
            "54000/54000 [==============================] - 24s 453us/step - loss: 0.0235 - acc: 0.9922 - val_loss: 0.0322 - val_acc: 0.9910\n",
            "Epoch 13/25\n",
            "54000/54000 [==============================] - 25s 454us/step - loss: 0.0222 - acc: 0.9924 - val_loss: 0.0287 - val_acc: 0.9917\n",
            "Epoch 14/25\n",
            "54000/54000 [==============================] - 25s 454us/step - loss: 0.0209 - acc: 0.9929 - val_loss: 0.0334 - val_acc: 0.9912\n",
            "Epoch 15/25\n",
            "54000/54000 [==============================] - 24s 452us/step - loss: 0.0210 - acc: 0.9931 - val_loss: 0.0340 - val_acc: 0.9917\n",
            "Epoch 16/25\n",
            "54000/54000 [==============================] - 25s 463us/step - loss: 0.0198 - acc: 0.9938 - val_loss: 0.0281 - val_acc: 0.9927\n",
            "Epoch 17/25\n",
            "54000/54000 [==============================] - 25s 455us/step - loss: 0.0191 - acc: 0.9939 - val_loss: 0.0277 - val_acc: 0.9925\n",
            "Epoch 18/25\n",
            "54000/54000 [==============================] - 25s 454us/step - loss: 0.0165 - acc: 0.9942 - val_loss: 0.0328 - val_acc: 0.9913\n",
            "Epoch 19/25\n",
            "54000/54000 [==============================] - 24s 451us/step - loss: 0.0173 - acc: 0.9940 - val_loss: 0.0281 - val_acc: 0.9928\n",
            "Epoch 20/25\n",
            "54000/54000 [==============================] - 25s 454us/step - loss: 0.0154 - acc: 0.9949 - val_loss: 0.0291 - val_acc: 0.9927\n",
            "Epoch 21/25\n",
            "54000/54000 [==============================] - 24s 452us/step - loss: 0.0151 - acc: 0.9946 - val_loss: 0.0357 - val_acc: 0.9920\n",
            "Epoch 22/25\n",
            "54000/54000 [==============================] - 24s 453us/step - loss: 0.0147 - acc: 0.9951 - val_loss: 0.0263 - val_acc: 0.9937\n",
            "Epoch 23/25\n",
            "54000/54000 [==============================] - 24s 453us/step - loss: 0.0136 - acc: 0.9954 - val_loss: 0.0298 - val_acc: 0.9932\n",
            "Epoch 24/25\n",
            "54000/54000 [==============================] - 24s 454us/step - loss: 0.0142 - acc: 0.9951 - val_loss: 0.0252 - val_acc: 0.9932\n",
            "Epoch 25/25\n",
            "54000/54000 [==============================] - 24s 453us/step - loss: 0.0141 - acc: 0.9952 - val_loss: 0.0303 - val_acc: 0.9925\n"
          ],
          "name": "stdout"
        },
        {
          "output_type": "execute_result",
          "data": {
            "text/plain": [
              "<keras.callbacks.History at 0x7f757f1acb00>"
            ]
          },
          "metadata": {
            "tags": []
          },
          "execution_count": 126
        }
      ]
    },
    {
      "cell_type": "code",
      "metadata": {
        "id": "AtsH-lLk-eLb",
        "colab_type": "code",
        "colab": {}
      },
      "source": [
        "score = model.evaluate(X_test, Y_test, verbose=0)"
      ],
      "execution_count": 0,
      "outputs": []
    },
    {
      "cell_type": "code",
      "metadata": {
        "id": "mkX8JMv79q9r",
        "colab_type": "code",
        "outputId": "d92f8dae-7494-48e8-c4d7-bacd1491940d",
        "colab": {
          "base_uri": "https://localhost:8080/",
          "height": 34
        }
      },
      "source": [
        "print(score)"
      ],
      "execution_count": 128,
      "outputs": [
        {
          "output_type": "stream",
          "text": [
            "[0.030456522768935974, 0.9923]\n"
          ],
          "name": "stdout"
        }
      ]
    },
    {
      "cell_type": "code",
      "metadata": {
        "id": "OCWoJkwE9suh",
        "colab_type": "code",
        "colab": {}
      },
      "source": [
        "y_pred = model.predict(X_test)"
      ],
      "execution_count": 0,
      "outputs": []
    },
    {
      "cell_type": "code",
      "metadata": {
        "id": "Ym7iCFBm9uBs",
        "colab_type": "code",
        "outputId": "1054665d-9d98-42c9-c810-9ecc5d311e75",
        "colab": {
          "base_uri": "https://localhost:8080/",
          "height": 336
        }
      },
      "source": [
        "print(y_pred[:9])\n",
        "print(y_test[:9])"
      ],
      "execution_count": 130,
      "outputs": [
        {
          "output_type": "stream",
          "text": [
            "[[9.2398914e-14 1.8458331e-10 1.7041974e-11 1.7931791e-07 6.4217823e-14\n",
            "  2.6849645e-10 3.2723510e-22 9.9999976e-01 7.6214744e-14 5.9771836e-09]\n",
            " [1.4178154e-15 3.1661097e-12 1.0000000e+00 6.3730912e-16 2.8798734e-16\n",
            "  4.3477699e-20 6.2288770e-13 2.6728601e-14 4.6651590e-17 1.1470112e-18]\n",
            " [3.3539737e-11 9.9999964e-01 4.1203503e-09 8.4878103e-12 5.0092823e-09\n",
            "  7.7478852e-08 3.5130031e-11 7.8088604e-08 2.2594395e-07 5.7308056e-09]\n",
            " [9.9999392e-01 1.8410349e-12 8.3821243e-09 8.8092776e-08 7.4964835e-12\n",
            "  7.5110407e-08 4.1631015e-06 6.4048405e-10 9.9240003e-07 6.7365687e-07]\n",
            " [4.2038345e-13 2.2219582e-14 8.1549862e-12 4.0887954e-14 9.9999905e-01\n",
            "  7.9924619e-13 1.1404616e-10 3.9360805e-14 3.2120653e-09 9.7763450e-07]\n",
            " [1.6298066e-13 9.9999976e-01 4.3004604e-09 5.7253512e-14 2.3650129e-09\n",
            "  7.1586215e-10 1.3460440e-12 1.3479745e-07 1.2406912e-07 6.9990103e-10]\n",
            " [9.0464044e-22 1.1797939e-11 4.6851112e-10 5.9412822e-14 9.9999738e-01\n",
            "  2.2168019e-11 4.4425860e-19 1.3628868e-07 8.0395870e-07 1.7406745e-06]\n",
            " [2.2760883e-15 1.9882988e-10 5.0185918e-08 1.8841189e-07 6.1825244e-04\n",
            "  4.9391796e-10 8.6641232e-12 1.7963753e-09 2.3966741e-05 9.9935752e-01]\n",
            " [4.0488553e-07 8.6286101e-14 1.8589739e-10 2.5454805e-10 7.4205568e-14\n",
            "  9.9231285e-01 7.2929193e-03 5.4768743e-16 3.9308614e-04 8.1556550e-07]]\n",
            "[7 2 1 0 4 1 4 9 5]\n"
          ],
          "name": "stdout"
        }
      ]
    },
    {
      "cell_type": "code",
      "metadata": {
        "id": "CT--y98_dr2T",
        "colab_type": "code",
        "colab": {}
      },
      "source": [
        "layer_dict = dict([(layer.name, layer) for layer in model.layers])"
      ],
      "execution_count": 0,
      "outputs": []
    },
    {
      "cell_type": "code",
      "metadata": {
        "id": "2GY4Upv4dsUR",
        "colab_type": "code",
        "outputId": "e4b57054-c9b7-4e70-d82a-fae4915b58e5",
        "colab": {
          "base_uri": "https://localhost:8080/",
          "height": 837
        }
      },
      "source": [
        "import numpy as np\n",
        "from matplotlib import pyplot as plt\n",
        "from keras import backend as K\n",
        "%matplotlib inline\n",
        "# util function to convert a tensor into a valid image\n",
        "def deprocess_image(x):\n",
        "    # normalize tensor: center on 0., ensure std is 0.1\n",
        "    x -= x.mean()\n",
        "    x /= (x.std() + 1e-5)\n",
        "    x *= 0.1\n",
        "\n",
        "    # clip to [0, 1]\n",
        "    x += 0.5\n",
        "    x = np.clip(x, 0, 1)\n",
        "\n",
        "    # convert to RGB array\n",
        "    x *= 255\n",
        "    #x = x.transpose((1, 2, 0))\n",
        "    x = np.clip(x, 0, 255).astype('uint8')\n",
        "    return x\n",
        "\n",
        "def vis_img_in_filter(img = np.array(X_train[2]).reshape((1, 28, 28, 1)).astype(np.float64), \n",
        "                      layer_name = 'conv2d_158'):\n",
        "    layer_output = layer_dict[layer_name].output\n",
        "    img_ascs = list()\n",
        "    for filter_index in range(layer_output.shape[3]):\n",
        "        # build a loss function that maximizes the activation\n",
        "        # of the nth filter of the layer considered\n",
        "        loss = K.mean(layer_output[:, :, :, filter_index])\n",
        "\n",
        "        # compute the gradient of the input picture wrt this loss\n",
        "        grads = K.gradients(loss, model.input)[0]\n",
        "\n",
        "        # normalization trick: we normalize the gradient\n",
        "        grads /= (K.sqrt(K.mean(K.square(grads))) + 1e-5)\n",
        "\n",
        "        # this function returns the loss and grads given the input picture\n",
        "        iterate = K.function([model.input], [loss, grads])\n",
        "\n",
        "        # step size for gradient ascent\n",
        "        step = 5.\n",
        "\n",
        "        img_asc = np.array(img)\n",
        "        # run gradient ascent for 20 steps\n",
        "        for i in range(20):\n",
        "            loss_value, grads_value = iterate([img_asc])\n",
        "            img_asc += grads_value * step\n",
        "\n",
        "        img_asc = img_asc[0]\n",
        "        img_ascs.append(deprocess_image(img_asc).reshape((28, 28)))\n",
        "        \n",
        "    if layer_output.shape[3] >= 35:\n",
        "        plot_x, plot_y = 6, 6\n",
        "    elif layer_output.shape[3] >= 23:\n",
        "        plot_x, plot_y = 4, 6\n",
        "    elif layer_output.shape[3] >= 11:\n",
        "        plot_x, plot_y = 2, 6\n",
        "    else:\n",
        "        plot_x, plot_y = 1, 2\n",
        "    fig, ax = plt.subplots(plot_x, plot_y, figsize = (12, 12))\n",
        "    ax[0, 0].imshow(img.reshape((28, 28)), cmap = 'gray')\n",
        "    ax[0, 0].set_title('Input image')\n",
        "    fig.suptitle('Input image and %s filters' % (layer_name,))\n",
        "    fig.tight_layout(pad = 0.3, rect = [0, 0, 0.9, 0.9])\n",
        "    for (x, y) in [(i, j) for i in range(plot_x) for j in range(plot_y)]:\n",
        "        if x == 0 and y == 0:\n",
        "            continue\n",
        "        ax[x, y].imshow(img_ascs[x * plot_y + y - 1], cmap = 'gray')\n",
        "        ax[x, y].set_title('filter %d' % (x * plot_y + y - 1))\n",
        "\n",
        "vis_img_in_filter()"
      ],
      "execution_count": 133,
      "outputs": [
        {
          "output_type": "display_data",
          "data": {
            "image/png": "[encoded data removed]",
            "text/plain": [
              "<Figure size 864x864 with 24 Axes>"
            ]
          },
          "metadata": {
            "tags": []
          }
        }
      ]
    },
    {
      "cell_type": "code",
      "metadata": {
        "id": "9tvptcn8dxvp",
        "colab_type": "code",
        "colab": {}
      },
      "source": [
        ""
      ],
      "execution_count": 0,
      "outputs": []
    }
  ]
}