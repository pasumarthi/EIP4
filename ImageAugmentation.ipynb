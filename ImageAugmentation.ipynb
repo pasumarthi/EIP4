{
  "nbformat": 4,
  "nbformat_minor": 0,
  "metadata": {
    "colab": {
      "name": "ImageAugmentation.ipynb",
      "provenance": [],
      "collapsed_sections": [],
      "include_colab_link": true
    },
    "kernelspec": {
      "name": "python3",
      "display_name": "Python 3"
    }
  },
  "cells": [
    {
      "cell_type": "markdown",
      "metadata": {
        "id": "view-in-github",
        "colab_type": "text"
      },
      "source": [
        "<a href=\"https://colab.research.google.com/github/pasumarthi/EIP4/blob/master/ImageAugmentation.ipynb\" target=\"_parent\"><img src=\"https://colab.research.google.com/assets/colab-badge.svg\" alt=\"Open In Colab\"/></a>"
      ]
    },
    {
      "cell_type": "code",
      "metadata": {
        "id": "HePf8Gdi5lMY",
        "colab_type": "code",
        "colab": {}
      },
      "source": [
        "# function to add label smoothing\n",
        "def add_label_noise(y,noise_level=0.2,selected_cols=[]):\n",
        "    def add_noise(x):\n",
        "        temp = x*(1-noise_level)\n",
        "        res = (np.asarray(([noise_level]*x.shape[1]))/x.shape[1]).reshape(1,-1)\n",
        "        temp=temp+res\n",
        "        return temp\n",
        "    if len(selected_cols)==0:\n",
        "        temp=add_noise(y)\n",
        "    else:\n",
        "        temp=y.copy()\n",
        "        for c in selected_cols:\n",
        "            temp[temp[c]==1] = add_noise(temp[temp[c]==1])  \n",
        "    return temp"
      ],
      "execution_count": 0,
      "outputs": []
    },
    {
      "cell_type": "code",
      "metadata": {
        "id": "GBT_KaV85ohm",
        "colab_type": "code",
        "colab": {}
      },
      "source": [
        "from imgaug import augmenters as iaa\n",
        "\n",
        "aug1 = iaa.CoarseDropout(p=0.10, size_percent=0.05)\n",
        "\n",
        "def additional_augmenation(image):\n",
        "    image = aug1.augment_image(image)\n",
        "\n",
        "    return image"
      ],
      "execution_count": 0,
      "outputs": []
    },
    {
      "cell_type": "code",
      "metadata": {
        "id": "36bNRioC5-8r",
        "colab_type": "code",
        "colab": {}
      },
      "source": [
        "train_gen = PersonDataGenerator(train_df, \n",
        "                                batch_size=32, \n",
        "                                augmentation=ImageDataGenerator( \n",
        "                                    # set input mean to 0 over the dataset \n",
        "                                    featurewise_center=False, \n",
        "                                    # set each sample mean to 0 \n",
        "                                    samplewise_center=False, \n",
        "                                    # divide inputs by std of dataset \n",
        "                                    featurewise_std_normalization=False, \n",
        "                                    # divide each input by its std \n",
        "                                    samplewise_std_normalization=False, \n",
        "                                    # apply ZCA whitening \n",
        "                                    zca_whitening=False, \n",
        "                                    # epsilon for ZCA whitening \n",
        "                                    zca_epsilon=1e-06, \n",
        "                                    # randomly rotate images in the range (deg 0 to 180) \n",
        "                                    rotation_range=0, \n",
        "                                    # randomly shift images horizontally \n",
        "                                    width_shift_range=0.1, \n",
        "                                    # randomly shift images vertically \n",
        "                                    height_shift_range=0.1, \n",
        "                                    # set range for random shear \n",
        "                                    shear_range=0.15, \n",
        "                                    # set range for random zoom \n",
        "                                    zoom_range=0., \n",
        "                                    # set range for random channel shifts \n",
        "                                    channel_shift_range=0., \n",
        "                                    # set mode for filling points outside the input boundaries \n",
        "                                    fill_mode='nearest', \n",
        "                                    # value used for fill_mode = \"constant\" \n",
        "                                    cval=0., \n",
        "                                    # randomly flip images \n",
        "                                    horizontal_flip=True, \n",
        "                                    # randomly flip images \n",
        "                                    vertical_flip=False, \n",
        "                                    # set rescaling factor (applied before any other transformation) \n",
        "                                    rescale=None, \n",
        "                                    # set function that will be applied on each input \n",
        "                                    preprocessing_function=additional_augmenation, \n",
        "                                    # image data format, either \"channels_first\" or \"channels_last\" \n",
        "                                    data_format=None, \n",
        "                                    # fraction of images reserved for validation (strictly between 0 and 1) \n",
        "                                    validation_split=0.0))\n",
        "\n",
        "valid_gen = PersonDataGenerator(val_df, batch_size=64, shuffle=False)\n"
      ],
      "execution_count": 0,
      "outputs": []
    },
    {
      "cell_type": "code",
      "metadata": {
        "id": "zknyoCwV6IRp",
        "colab_type": "code",
        "colab": {}
      },
      "source": [
        "def get_random_eraser(p=0.5, s_l=0.02, s_h=0.4, r_1=0.3, r_2=1/0.3, v_l=0, v_h=255, pixel_level=False):\n",
        "    def eraser(input_img):\n",
        "        img_h, img_w, img_c = input_img.shape\n",
        "        p_1 = np.random.rand()\n",
        "\n",
        "        if p_1 > p:\n",
        "            return input_img\n",
        "\n",
        "        while True:\n",
        "            s = np.random.uniform(s_l, s_h) * img_h * img_w\n",
        "            r = np.random.uniform(r_1, r_2)\n",
        "            w = int(np.sqrt(s / r))\n",
        "            h = int(np.sqrt(s * r))\n",
        "            left = np.random.randint(0, img_w)\n",
        "            top = np.random.randint(0, img_h)\n",
        "\n",
        "            if left + w <= img_w and top + h <= img_h:\n",
        "                break\n",
        "\n",
        "        if pixel_level:\n",
        "            c = np.random.uniform(v_l, v_h, (h, w, img_c))\n",
        "        else:\n",
        "            c = np.random.uniform(v_l, v_h)\n",
        "\n",
        "        input_img[top:top + h, left:left + w, :] = c\n",
        "\n",
        "        return input_img\n",
        "\n",
        "    return eraser"
      ],
      "execution_count": 0,
      "outputs": []
    }
  ]
}